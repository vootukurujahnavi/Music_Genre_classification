{
  "cells": [
    {
      "cell_type": "code",
      "execution_count": null,
      "metadata": {
        "colab": {
          "base_uri": "https://localhost:8080/"
        },
        "id": "OSPkhmRSv1i1",
        "outputId": "ed4a2373-66c5-4bd0-9d4a-452c9e070ce0"
      },
      "outputs": [
        {
          "output_type": "stream",
          "name": "stdout",
          "text": [
            "Requirement already satisfied: librosa in /usr/local/lib/python3.11/dist-packages (0.11.0)\n",
            "Requirement already satisfied: scikit-learn in /usr/local/lib/python3.11/dist-packages (1.6.1)\n",
            "Requirement already satisfied: matplotlib in /usr/local/lib/python3.11/dist-packages (3.10.0)\n",
            "Requirement already satisfied: seaborn in /usr/local/lib/python3.11/dist-packages (0.13.2)\n",
            "Requirement already satisfied: audioread>=2.1.9 in /usr/local/lib/python3.11/dist-packages (from librosa) (3.0.1)\n",
            "Requirement already satisfied: numba>=0.51.0 in /usr/local/lib/python3.11/dist-packages (from librosa) (0.60.0)\n",
            "Requirement already satisfied: numpy>=1.22.3 in /usr/local/lib/python3.11/dist-packages (from librosa) (2.0.2)\n",
            "Requirement already satisfied: scipy>=1.6.0 in /usr/local/lib/python3.11/dist-packages (from librosa) (1.14.1)\n",
            "Requirement already satisfied: joblib>=1.0 in /usr/local/lib/python3.11/dist-packages (from librosa) (1.4.2)\n",
            "Requirement already satisfied: decorator>=4.3.0 in /usr/local/lib/python3.11/dist-packages (from librosa) (4.4.2)\n",
            "Requirement already satisfied: soundfile>=0.12.1 in /usr/local/lib/python3.11/dist-packages (from librosa) (0.13.1)\n",
            "Requirement already satisfied: pooch>=1.1 in /usr/local/lib/python3.11/dist-packages (from librosa) (1.8.2)\n",
            "Requirement already satisfied: soxr>=0.3.2 in /usr/local/lib/python3.11/dist-packages (from librosa) (0.5.0.post1)\n",
            "Requirement already satisfied: typing_extensions>=4.1.1 in /usr/local/lib/python3.11/dist-packages (from librosa) (4.13.1)\n",
            "Requirement already satisfied: lazy_loader>=0.1 in /usr/local/lib/python3.11/dist-packages (from librosa) (0.4)\n",
            "Requirement already satisfied: msgpack>=1.0 in /usr/local/lib/python3.11/dist-packages (from librosa) (1.1.0)\n",
            "Requirement already satisfied: threadpoolctl>=3.1.0 in /usr/local/lib/python3.11/dist-packages (from scikit-learn) (3.6.0)\n",
            "Requirement already satisfied: contourpy>=1.0.1 in /usr/local/lib/python3.11/dist-packages (from matplotlib) (1.3.1)\n",
            "Requirement already satisfied: cycler>=0.10 in /usr/local/lib/python3.11/dist-packages (from matplotlib) (0.12.1)\n",
            "Requirement already satisfied: fonttools>=4.22.0 in /usr/local/lib/python3.11/dist-packages (from matplotlib) (4.57.0)\n",
            "Requirement already satisfied: kiwisolver>=1.3.1 in /usr/local/lib/python3.11/dist-packages (from matplotlib) (1.4.8)\n",
            "Requirement already satisfied: packaging>=20.0 in /usr/local/lib/python3.11/dist-packages (from matplotlib) (24.2)\n",
            "Requirement already satisfied: pillow>=8 in /usr/local/lib/python3.11/dist-packages (from matplotlib) (11.1.0)\n",
            "Requirement already satisfied: pyparsing>=2.3.1 in /usr/local/lib/python3.11/dist-packages (from matplotlib) (3.2.3)\n",
            "Requirement already satisfied: python-dateutil>=2.7 in /usr/local/lib/python3.11/dist-packages (from matplotlib) (2.8.2)\n",
            "Requirement already satisfied: pandas>=1.2 in /usr/local/lib/python3.11/dist-packages (from seaborn) (2.2.2)\n",
            "Requirement already satisfied: llvmlite<0.44,>=0.43.0dev0 in /usr/local/lib/python3.11/dist-packages (from numba>=0.51.0->librosa) (0.43.0)\n",
            "Requirement already satisfied: pytz>=2020.1 in /usr/local/lib/python3.11/dist-packages (from pandas>=1.2->seaborn) (2025.2)\n",
            "Requirement already satisfied: tzdata>=2022.7 in /usr/local/lib/python3.11/dist-packages (from pandas>=1.2->seaborn) (2025.2)\n",
            "Requirement already satisfied: platformdirs>=2.5.0 in /usr/local/lib/python3.11/dist-packages (from pooch>=1.1->librosa) (4.3.7)\n",
            "Requirement already satisfied: requests>=2.19.0 in /usr/local/lib/python3.11/dist-packages (from pooch>=1.1->librosa) (2.32.3)\n",
            "Requirement already satisfied: six>=1.5 in /usr/local/lib/python3.11/dist-packages (from python-dateutil>=2.7->matplotlib) (1.17.0)\n",
            "Requirement already satisfied: cffi>=1.0 in /usr/local/lib/python3.11/dist-packages (from soundfile>=0.12.1->librosa) (1.17.1)\n",
            "Requirement already satisfied: pycparser in /usr/local/lib/python3.11/dist-packages (from cffi>=1.0->soundfile>=0.12.1->librosa) (2.22)\n",
            "Requirement already satisfied: charset-normalizer<4,>=2 in /usr/local/lib/python3.11/dist-packages (from requests>=2.19.0->pooch>=1.1->librosa) (3.4.1)\n",
            "Requirement already satisfied: idna<4,>=2.5 in /usr/local/lib/python3.11/dist-packages (from requests>=2.19.0->pooch>=1.1->librosa) (3.10)\n",
            "Requirement already satisfied: urllib3<3,>=1.21.1 in /usr/local/lib/python3.11/dist-packages (from requests>=2.19.0->pooch>=1.1->librosa) (2.3.0)\n",
            "Requirement already satisfied: certifi>=2017.4.17 in /usr/local/lib/python3.11/dist-packages (from requests>=2.19.0->pooch>=1.1->librosa) (2025.1.31)\n"
          ]
        }
      ],
      "source": [
        "!pip install librosa scikit-learn matplotlib seaborn\n"
      ]
    },
    {
      "cell_type": "code",
      "source": [
        "\n",
        "from google.colab import drive\n",
        "drive.mount('/content/drive')\n"
      ],
      "metadata": {
        "id": "ALf2GOQlkV09",
        "colab": {
          "base_uri": "https://localhost:8080/"
        },
        "outputId": "db565ecb-c553-42d3-b69b-3c20e8560411"
      },
      "execution_count": null,
      "outputs": [
        {
          "output_type": "stream",
          "name": "stdout",
          "text": [
            "Drive already mounted at /content/drive; to attempt to forcibly remount, call drive.mount(\"/content/drive\", force_remount=True).\n"
          ]
        }
      ]
    },
    {
      "cell_type": "code",
      "execution_count": null,
      "metadata": {
        "id": "pQ8Viahuw8ww",
        "colab": {
          "base_uri": "https://localhost:8080/"
        },
        "outputId": "e964144c-30a3-4219-c5a0-721d88104522"
      },
      "outputs": [
        {
          "output_type": "stream",
          "name": "stdout",
          "text": [
            "Extraction complete.\n"
          ]
        }
      ],
      "source": [
        "import zipfile\n",
        "\n",
        "zip_path = \"/content/drive/My Drive/project.zip\"\n",
        "extract_path = \"/content/project\"\n",
        "\n",
        "# Extract the zip file\n",
        "with zipfile.ZipFile(zip_path, 'r') as zip_ref:\n",
        "    zip_ref.extractall(extract_path)\n",
        "\n",
        "print(\"Extraction complete.\")\n"
      ]
    },
    {
      "cell_type": "code",
      "source": [
        "# ✅ Step 1: Install and Import Required Libraries\n",
        "!pip install librosa --quiet\n",
        "\n",
        "import os\n",
        "import librosa\n",
        "import numpy as np\n",
        "import matplotlib.pyplot as plt\n",
        "from sklearn.model_selection import train_test_split\n",
        "from sklearn.preprocessing import LabelEncoder\n",
        "from tensorflow.keras.models import Sequential\n",
        "from tensorflow.keras.layers import Dense, Dropout\n",
        "from tensorflow.keras.utils import to_categorical\n"
      ],
      "metadata": {
        "id": "K3UsXa5Bo72-"
      },
      "execution_count": null,
      "outputs": []
    },
    {
      "cell_type": "code",
      "source": [
        "# ✅ Step 2: Extract Features (MFCCs) from GTZAN dataset\n",
        "\n",
        "DATA_PATH = \"/content/project\"\n",
        "genres = os.listdir(DATA_PATH)  # Assumes each folder is a genre (e.g., blues, classical, etc.)\n",
        "X = []\n",
        "y = []\n",
        "\n",
        "for genre in genres:\n",
        "    genre_folder = os.path.join(DATA_PATH, genre)\n",
        "    for file in os.listdir(genre_folder):\n",
        "        if file.endswith(\".wav\"):\n",
        "            file_path = os.path.join(genre_folder, file)\n",
        "            try:\n",
        "                signal, sr = librosa.load(file_path, duration=30)\n",
        "                mfcc = librosa.feature.mfcc(y=signal, sr=sr, n_mfcc=20)\n",
        "                mfcc_scaled = np.mean(mfcc.T, axis=0)\n",
        "                X.append(mfcc_scaled)\n",
        "                y.append(genre)\n",
        "            except Exception as e:\n",
        "                print(f\"Error processing {file_path}: {e}\")\n"
      ],
      "metadata": {
        "id": "-eHicdx3uHvY"
      },
      "execution_count": null,
      "outputs": []
    },
    {
      "cell_type": "code",
      "source": [
        "import os\n",
        "\n",
        "DATA_PATH = \"/content/project\"\n",
        "genres = os.listdir(DATA_PATH)\n",
        "print(\"Genres found:\", genres)\n"
      ],
      "metadata": {
        "colab": {
          "base_uri": "https://localhost:8080/"
        },
        "id": "H6aM73o3uZvE",
        "outputId": "c0151f7d-1f8a-4622-cdfb-14f7ee60b848"
      },
      "execution_count": null,
      "outputs": [
        {
          "output_type": "stream",
          "name": "stdout",
          "text": [
            "Genres found: ['Data']\n"
          ]
        }
      ]
    },
    {
      "cell_type": "code",
      "source": [
        "import os\n",
        "\n",
        "for root, dirs, files in os.walk(\"/content/project\"):\n",
        "    print(\"📂 Folder:\", root)\n",
        "    for d in dirs:\n",
        "        print(\"    ┗📁\", d)\n",
        "    for f in files[:5]:  # Print first few files\n",
        "        print(\"    ┗📄\", f)\n"
      ],
      "metadata": {
        "colab": {
          "base_uri": "https://localhost:8080/"
        },
        "id": "LIpA-wfRuvto",
        "outputId": "931016e4-bce3-4a60-8cac-b5ebd5261a58"
      },
      "execution_count": null,
      "outputs": [
        {
          "output_type": "stream",
          "name": "stdout",
          "text": [
            "📂 Folder: /content/project\n",
            "    ┗📁 Data\n",
            "📂 Folder: /content/project/Data\n",
            "    ┗📁 images_original\n",
            "    ┗📁 genres_original\n",
            "    ┗📄 features_30_sec.csv\n",
            "    ┗📄 features_3_sec.csv\n",
            "📂 Folder: /content/project/Data/images_original\n",
            "    ┗📁 jazz\n",
            "    ┗📁 country\n",
            "    ┗📁 disco\n",
            "    ┗📁 metal\n",
            "    ┗📁 pop\n",
            "    ┗📁 classical\n",
            "    ┗📁 hiphop\n",
            "    ┗📁 reggae\n",
            "    ┗📁 blues\n",
            "    ┗📁 rock\n",
            "📂 Folder: /content/project/Data/images_original/jazz\n",
            "    ┗📄 jazz00050.png\n",
            "    ┗📄 jazz00053.png\n",
            "    ┗📄 jazz00079.png\n",
            "    ┗📄 jazz00024.png\n",
            "    ┗📄 jazz00099.png\n",
            "📂 Folder: /content/project/Data/images_original/country\n",
            "    ┗📄 country00083.png\n",
            "    ┗📄 country00052.png\n",
            "    ┗📄 country00029.png\n",
            "    ┗📄 country00010.png\n",
            "    ┗📄 country00063.png\n",
            "📂 Folder: /content/project/Data/images_original/disco\n",
            "    ┗📄 disco00085.png\n",
            "    ┗📄 disco00041.png\n",
            "    ┗📄 disco00044.png\n",
            "    ┗📄 disco00000.png\n",
            "    ┗📄 disco00089.png\n",
            "📂 Folder: /content/project/Data/images_original/metal\n",
            "    ┗📄 metal00065.png\n",
            "    ┗📄 metal00063.png\n",
            "    ┗📄 metal00006.png\n",
            "    ┗📄 metal00079.png\n",
            "    ┗📄 metal00015.png\n",
            "📂 Folder: /content/project/Data/images_original/pop\n",
            "    ┗📄 pop00092.png\n",
            "    ┗📄 pop00042.png\n",
            "    ┗📄 pop00099.png\n",
            "    ┗📄 pop00081.png\n",
            "    ┗📄 pop00048.png\n",
            "📂 Folder: /content/project/Data/images_original/classical\n",
            "    ┗📄 classical00021.png\n",
            "    ┗📄 classical00035.png\n",
            "    ┗📄 classical00015.png\n",
            "    ┗📄 classical00064.png\n",
            "    ┗📄 classical00026.png\n",
            "📂 Folder: /content/project/Data/images_original/hiphop\n",
            "    ┗📄 hiphop00098.png\n",
            "    ┗📄 hiphop00091.png\n",
            "    ┗📄 hiphop00065.png\n",
            "    ┗📄 hiphop00071.png\n",
            "    ┗📄 hiphop00044.png\n",
            "📂 Folder: /content/project/Data/images_original/reggae\n",
            "    ┗📄 reggae00076.png\n",
            "    ┗📄 reggae00093.png\n",
            "    ┗📄 reggae00054.png\n",
            "    ┗📄 reggae00047.png\n",
            "    ┗📄 reggae00063.png\n",
            "📂 Folder: /content/project/Data/images_original/blues\n",
            "    ┗📄 blues00086.png\n",
            "    ┗📄 blues00032.png\n",
            "    ┗📄 blues00058.png\n",
            "    ┗📄 blues00072.png\n",
            "    ┗📄 blues00014.png\n",
            "📂 Folder: /content/project/Data/images_original/rock\n",
            "    ┗📄 rock00001.png\n",
            "    ┗📄 rock00055.png\n",
            "    ┗📄 rock00087.png\n",
            "    ┗📄 rock00037.png\n",
            "    ┗📄 rock00053.png\n",
            "📂 Folder: /content/project/Data/genres_original\n",
            "    ┗📁 jazz\n",
            "    ┗📁 country\n",
            "    ┗📁 disco\n",
            "    ┗📁 metal\n",
            "    ┗📁 pop\n",
            "    ┗📁 classical\n",
            "    ┗📁 hiphop\n",
            "    ┗📁 reggae\n",
            "    ┗📁 blues\n",
            "    ┗📁 rock\n",
            "📂 Folder: /content/project/Data/genres_original/jazz\n",
            "    ┗📄 jazz.00068.wav\n",
            "    ┗📄 jazz.00024.wav\n",
            "    ┗📄 jazz.00093.wav\n",
            "    ┗📄 jazz.00022.wav\n",
            "    ┗📄 jazz.00018.wav\n",
            "📂 Folder: /content/project/Data/genres_original/country\n",
            "    ┗📄 country.00039.wav\n",
            "    ┗📄 country.00052.wav\n",
            "    ┗📄 country.00061.wav\n",
            "    ┗📄 country.00048.wav\n",
            "    ┗📄 country.00096.wav\n",
            "📂 Folder: /content/project/Data/genres_original/disco\n",
            "    ┗📄 disco.00098.wav\n",
            "    ┗📄 disco.00066.wav\n",
            "    ┗📄 disco.00081.wav\n",
            "    ┗📄 disco.00090.wav\n",
            "    ┗📄 disco.00059.wav\n",
            "📂 Folder: /content/project/Data/genres_original/metal\n",
            "    ┗📄 metal.00079.wav\n",
            "    ┗📄 metal.00026.wav\n",
            "    ┗📄 metal.00066.wav\n",
            "    ┗📄 metal.00012.wav\n",
            "    ┗📄 metal.00015.wav\n",
            "📂 Folder: /content/project/Data/genres_original/pop\n",
            "    ┗📄 pop.00062.wav\n",
            "    ┗📄 pop.00021.wav\n",
            "    ┗📄 pop.00008.wav\n",
            "    ┗📄 pop.00050.wav\n",
            "    ┗📄 pop.00073.wav\n",
            "📂 Folder: /content/project/Data/genres_original/classical\n",
            "    ┗📄 classical.00095.wav\n",
            "    ┗📄 classical.00079.wav\n",
            "    ┗📄 classical.00074.wav\n",
            "    ┗📄 classical.00058.wav\n",
            "    ┗📄 classical.00075.wav\n",
            "📂 Folder: /content/project/Data/genres_original/hiphop\n",
            "    ┗📄 hiphop.00032.wav\n",
            "    ┗📄 hiphop.00020.wav\n",
            "    ┗📄 hiphop.00087.wav\n",
            "    ┗📄 hiphop.00065.wav\n",
            "    ┗📄 hiphop.00056.wav\n",
            "📂 Folder: /content/project/Data/genres_original/reggae\n",
            "    ┗📄 reggae.00068.wav\n",
            "    ┗📄 reggae.00033.wav\n",
            "    ┗📄 reggae.00069.wav\n",
            "    ┗📄 reggae.00075.wav\n",
            "    ┗📄 reggae.00058.wav\n",
            "📂 Folder: /content/project/Data/genres_original/blues\n",
            "    ┗📄 blues.00041.wav\n",
            "    ┗📄 blues.00089.wav\n",
            "    ┗📄 blues.00097.wav\n",
            "    ┗📄 blues.00071.wav\n",
            "    ┗📄 blues.00024.wav\n",
            "📂 Folder: /content/project/Data/genres_original/rock\n",
            "    ┗📄 rock.00039.wav\n",
            "    ┗📄 rock.00081.wav\n",
            "    ┗📄 rock.00092.wav\n",
            "    ┗📄 rock.00055.wav\n",
            "    ┗📄 rock.00029.wav\n"
          ]
        }
      ]
    },
    {
      "cell_type": "code",
      "source": [
        "import os\n",
        "\n",
        "for root, dirs, files in os.walk(\"/content/project\"):\n",
        "    print(\"📁\", root)\n",
        "    for d in dirs:\n",
        "        print(\"   ┗📂\", d)\n",
        "    for f in files[:5]:  # show only 5 files per folder\n",
        "        print(\"   ┗📄\", f)\n"
      ],
      "metadata": {
        "colab": {
          "base_uri": "https://localhost:8080/"
        },
        "id": "g_u7zgtFvGqx",
        "outputId": "8f6cf325-ff0d-43f5-ba84-a58dc382ae5d"
      },
      "execution_count": null,
      "outputs": [
        {
          "output_type": "stream",
          "name": "stdout",
          "text": [
            "📁 /content/project\n",
            "   ┗📂 Data\n",
            "📁 /content/project/Data\n",
            "   ┗📂 images_original\n",
            "   ┗📂 genres_original\n",
            "   ┗📄 features_30_sec.csv\n",
            "   ┗📄 features_3_sec.csv\n",
            "📁 /content/project/Data/images_original\n",
            "   ┗📂 jazz\n",
            "   ┗📂 country\n",
            "   ┗📂 disco\n",
            "   ┗📂 metal\n",
            "   ┗📂 pop\n",
            "   ┗📂 classical\n",
            "   ┗📂 hiphop\n",
            "   ┗📂 reggae\n",
            "   ┗📂 blues\n",
            "   ┗📂 rock\n",
            "📁 /content/project/Data/images_original/jazz\n",
            "   ┗📄 jazz00050.png\n",
            "   ┗📄 jazz00053.png\n",
            "   ┗📄 jazz00079.png\n",
            "   ┗📄 jazz00024.png\n",
            "   ┗📄 jazz00099.png\n",
            "📁 /content/project/Data/images_original/country\n",
            "   ┗📄 country00083.png\n",
            "   ┗📄 country00052.png\n",
            "   ┗📄 country00029.png\n",
            "   ┗📄 country00010.png\n",
            "   ┗📄 country00063.png\n",
            "📁 /content/project/Data/images_original/disco\n",
            "   ┗📄 disco00085.png\n",
            "   ┗📄 disco00041.png\n",
            "   ┗📄 disco00044.png\n",
            "   ┗📄 disco00000.png\n",
            "   ┗📄 disco00089.png\n",
            "📁 /content/project/Data/images_original/metal\n",
            "   ┗📄 metal00065.png\n",
            "   ┗📄 metal00063.png\n",
            "   ┗📄 metal00006.png\n",
            "   ┗📄 metal00079.png\n",
            "   ┗📄 metal00015.png\n",
            "📁 /content/project/Data/images_original/pop\n",
            "   ┗📄 pop00092.png\n",
            "   ┗📄 pop00042.png\n",
            "   ┗📄 pop00099.png\n",
            "   ┗📄 pop00081.png\n",
            "   ┗📄 pop00048.png\n",
            "📁 /content/project/Data/images_original/classical\n",
            "   ┗📄 classical00021.png\n",
            "   ┗📄 classical00035.png\n",
            "   ┗📄 classical00015.png\n",
            "   ┗📄 classical00064.png\n",
            "   ┗📄 classical00026.png\n",
            "📁 /content/project/Data/images_original/hiphop\n",
            "   ┗📄 hiphop00098.png\n",
            "   ┗📄 hiphop00091.png\n",
            "   ┗📄 hiphop00065.png\n",
            "   ┗📄 hiphop00071.png\n",
            "   ┗📄 hiphop00044.png\n",
            "📁 /content/project/Data/images_original/reggae\n",
            "   ┗📄 reggae00076.png\n",
            "   ┗📄 reggae00093.png\n",
            "   ┗📄 reggae00054.png\n",
            "   ┗📄 reggae00047.png\n",
            "   ┗📄 reggae00063.png\n",
            "📁 /content/project/Data/images_original/blues\n",
            "   ┗📄 blues00086.png\n",
            "   ┗📄 blues00032.png\n",
            "   ┗📄 blues00058.png\n",
            "   ┗📄 blues00072.png\n",
            "   ┗📄 blues00014.png\n",
            "📁 /content/project/Data/images_original/rock\n",
            "   ┗📄 rock00001.png\n",
            "   ┗📄 rock00055.png\n",
            "   ┗📄 rock00087.png\n",
            "   ┗📄 rock00037.png\n",
            "   ┗📄 rock00053.png\n",
            "📁 /content/project/Data/genres_original\n",
            "   ┗📂 jazz\n",
            "   ┗📂 country\n",
            "   ┗📂 disco\n",
            "   ┗📂 metal\n",
            "   ┗📂 pop\n",
            "   ┗📂 classical\n",
            "   ┗📂 hiphop\n",
            "   ┗📂 reggae\n",
            "   ┗📂 blues\n",
            "   ┗📂 rock\n",
            "📁 /content/project/Data/genres_original/jazz\n",
            "   ┗📄 jazz.00068.wav\n",
            "   ┗📄 jazz.00024.wav\n",
            "   ┗📄 jazz.00093.wav\n",
            "   ┗📄 jazz.00022.wav\n",
            "   ┗📄 jazz.00018.wav\n",
            "📁 /content/project/Data/genres_original/country\n",
            "   ┗📄 country.00039.wav\n",
            "   ┗📄 country.00052.wav\n",
            "   ┗📄 country.00061.wav\n",
            "   ┗📄 country.00048.wav\n",
            "   ┗📄 country.00096.wav\n",
            "📁 /content/project/Data/genres_original/disco\n",
            "   ┗📄 disco.00098.wav\n",
            "   ┗📄 disco.00066.wav\n",
            "   ┗📄 disco.00081.wav\n",
            "   ┗📄 disco.00090.wav\n",
            "   ┗📄 disco.00059.wav\n",
            "📁 /content/project/Data/genres_original/metal\n",
            "   ┗📄 metal.00079.wav\n",
            "   ┗📄 metal.00026.wav\n",
            "   ┗📄 metal.00066.wav\n",
            "   ┗📄 metal.00012.wav\n",
            "   ┗📄 metal.00015.wav\n",
            "📁 /content/project/Data/genres_original/pop\n",
            "   ┗📄 pop.00062.wav\n",
            "   ┗📄 pop.00021.wav\n",
            "   ┗📄 pop.00008.wav\n",
            "   ┗📄 pop.00050.wav\n",
            "   ┗📄 pop.00073.wav\n",
            "📁 /content/project/Data/genres_original/classical\n",
            "   ┗📄 classical.00095.wav\n",
            "   ┗📄 classical.00079.wav\n",
            "   ┗📄 classical.00074.wav\n",
            "   ┗📄 classical.00058.wav\n",
            "   ┗📄 classical.00075.wav\n",
            "📁 /content/project/Data/genres_original/hiphop\n",
            "   ┗📄 hiphop.00032.wav\n",
            "   ┗📄 hiphop.00020.wav\n",
            "   ┗📄 hiphop.00087.wav\n",
            "   ┗📄 hiphop.00065.wav\n",
            "   ┗📄 hiphop.00056.wav\n",
            "📁 /content/project/Data/genres_original/reggae\n",
            "   ┗📄 reggae.00068.wav\n",
            "   ┗📄 reggae.00033.wav\n",
            "   ┗📄 reggae.00069.wav\n",
            "   ┗📄 reggae.00075.wav\n",
            "   ┗📄 reggae.00058.wav\n",
            "📁 /content/project/Data/genres_original/blues\n",
            "   ┗📄 blues.00041.wav\n",
            "   ┗📄 blues.00089.wav\n",
            "   ┗📄 blues.00097.wav\n",
            "   ┗📄 blues.00071.wav\n",
            "   ┗📄 blues.00024.wav\n",
            "📁 /content/project/Data/genres_original/rock\n",
            "   ┗📄 rock.00039.wav\n",
            "   ┗📄 rock.00081.wav\n",
            "   ┗📄 rock.00092.wav\n",
            "   ┗📄 rock.00055.wav\n",
            "   ┗📄 rock.00029.wav\n"
          ]
        }
      ]
    },
    {
      "cell_type": "code",
      "source": [
        "import os\n",
        "\n",
        "print(\"Scanning '/content/project'...\\n\")\n",
        "for root, dirs, files in os.walk(\"/content/project\"):\n",
        "    print(\"📁 FOLDER:\", root)\n",
        "    for d in dirs:\n",
        "        print(\"   ┗📂\", d)\n",
        "    for f in files[:5]:  # only show a few files\n",
        "        print(\"   ┗📄\", f)\n",
        "    print(\"-\" * 40)\n"
      ],
      "metadata": {
        "colab": {
          "base_uri": "https://localhost:8080/"
        },
        "id": "9DRV4VxLwgI2",
        "outputId": "af004e3d-b471-4989-cbb4-f1a9205f45fc"
      },
      "execution_count": null,
      "outputs": [
        {
          "output_type": "stream",
          "name": "stdout",
          "text": [
            "Scanning '/content/project'...\n",
            "\n",
            "📁 FOLDER: /content/project\n",
            "   ┗📂 Data\n",
            "----------------------------------------\n",
            "📁 FOLDER: /content/project/Data\n",
            "   ┗📂 images_original\n",
            "   ┗📂 genres_original\n",
            "   ┗📄 features_30_sec.csv\n",
            "   ┗📄 features_3_sec.csv\n",
            "----------------------------------------\n",
            "📁 FOLDER: /content/project/Data/images_original\n",
            "   ┗📂 jazz\n",
            "   ┗📂 country\n",
            "   ┗📂 disco\n",
            "   ┗📂 metal\n",
            "   ┗📂 pop\n",
            "   ┗📂 classical\n",
            "   ┗📂 hiphop\n",
            "   ┗📂 reggae\n",
            "   ┗📂 blues\n",
            "   ┗📂 rock\n",
            "----------------------------------------\n",
            "📁 FOLDER: /content/project/Data/images_original/jazz\n",
            "   ┗📄 jazz00050.png\n",
            "   ┗📄 jazz00053.png\n",
            "   ┗📄 jazz00079.png\n",
            "   ┗📄 jazz00024.png\n",
            "   ┗📄 jazz00099.png\n",
            "----------------------------------------\n",
            "📁 FOLDER: /content/project/Data/images_original/country\n",
            "   ┗📄 country00083.png\n",
            "   ┗📄 country00052.png\n",
            "   ┗📄 country00029.png\n",
            "   ┗📄 country00010.png\n",
            "   ┗📄 country00063.png\n",
            "----------------------------------------\n",
            "📁 FOLDER: /content/project/Data/images_original/disco\n",
            "   ┗📄 disco00085.png\n",
            "   ┗📄 disco00041.png\n",
            "   ┗📄 disco00044.png\n",
            "   ┗📄 disco00000.png\n",
            "   ┗📄 disco00089.png\n",
            "----------------------------------------\n",
            "📁 FOLDER: /content/project/Data/images_original/metal\n",
            "   ┗📄 metal00065.png\n",
            "   ┗📄 metal00063.png\n",
            "   ┗📄 metal00006.png\n",
            "   ┗📄 metal00079.png\n",
            "   ┗📄 metal00015.png\n",
            "----------------------------------------\n",
            "📁 FOLDER: /content/project/Data/images_original/pop\n",
            "   ┗📄 pop00092.png\n",
            "   ┗📄 pop00042.png\n",
            "   ┗📄 pop00099.png\n",
            "   ┗📄 pop00081.png\n",
            "   ┗📄 pop00048.png\n",
            "----------------------------------------\n",
            "📁 FOLDER: /content/project/Data/images_original/classical\n",
            "   ┗📄 classical00021.png\n",
            "   ┗📄 classical00035.png\n",
            "   ┗📄 classical00015.png\n",
            "   ┗📄 classical00064.png\n",
            "   ┗📄 classical00026.png\n",
            "----------------------------------------\n",
            "📁 FOLDER: /content/project/Data/images_original/hiphop\n",
            "   ┗📄 hiphop00098.png\n",
            "   ┗📄 hiphop00091.png\n",
            "   ┗📄 hiphop00065.png\n",
            "   ┗📄 hiphop00071.png\n",
            "   ┗📄 hiphop00044.png\n",
            "----------------------------------------\n",
            "📁 FOLDER: /content/project/Data/images_original/reggae\n",
            "   ┗📄 reggae00076.png\n",
            "   ┗📄 reggae00093.png\n",
            "   ┗📄 reggae00054.png\n",
            "   ┗📄 reggae00047.png\n",
            "   ┗📄 reggae00063.png\n",
            "----------------------------------------\n",
            "📁 FOLDER: /content/project/Data/images_original/blues\n",
            "   ┗📄 blues00086.png\n",
            "   ┗📄 blues00032.png\n",
            "   ┗📄 blues00058.png\n",
            "   ┗📄 blues00072.png\n",
            "   ┗📄 blues00014.png\n",
            "----------------------------------------\n",
            "📁 FOLDER: /content/project/Data/images_original/rock\n",
            "   ┗📄 rock00001.png\n",
            "   ┗📄 rock00055.png\n",
            "   ┗📄 rock00087.png\n",
            "   ┗📄 rock00037.png\n",
            "   ┗📄 rock00053.png\n",
            "----------------------------------------\n",
            "📁 FOLDER: /content/project/Data/genres_original\n",
            "   ┗📂 jazz\n",
            "   ┗📂 country\n",
            "   ┗📂 disco\n",
            "   ┗📂 metal\n",
            "   ┗📂 pop\n",
            "   ┗📂 classical\n",
            "   ┗📂 hiphop\n",
            "   ┗📂 reggae\n",
            "   ┗📂 blues\n",
            "   ┗📂 rock\n",
            "----------------------------------------\n",
            "📁 FOLDER: /content/project/Data/genres_original/jazz\n",
            "   ┗📄 jazz.00068.wav\n",
            "   ┗📄 jazz.00024.wav\n",
            "   ┗📄 jazz.00093.wav\n",
            "   ┗📄 jazz.00022.wav\n",
            "   ┗📄 jazz.00018.wav\n",
            "----------------------------------------\n",
            "📁 FOLDER: /content/project/Data/genres_original/country\n",
            "   ┗📄 country.00039.wav\n",
            "   ┗📄 country.00052.wav\n",
            "   ┗📄 country.00061.wav\n",
            "   ┗📄 country.00048.wav\n",
            "   ┗📄 country.00096.wav\n",
            "----------------------------------------\n",
            "📁 FOLDER: /content/project/Data/genres_original/disco\n",
            "   ┗📄 disco.00098.wav\n",
            "   ┗📄 disco.00066.wav\n",
            "   ┗📄 disco.00081.wav\n",
            "   ┗📄 disco.00090.wav\n",
            "   ┗📄 disco.00059.wav\n",
            "----------------------------------------\n",
            "📁 FOLDER: /content/project/Data/genres_original/metal\n",
            "   ┗📄 metal.00079.wav\n",
            "   ┗📄 metal.00026.wav\n",
            "   ┗📄 metal.00066.wav\n",
            "   ┗📄 metal.00012.wav\n",
            "   ┗📄 metal.00015.wav\n",
            "----------------------------------------\n",
            "📁 FOLDER: /content/project/Data/genres_original/pop\n",
            "   ┗📄 pop.00062.wav\n",
            "   ┗📄 pop.00021.wav\n",
            "   ┗📄 pop.00008.wav\n",
            "   ┗📄 pop.00050.wav\n",
            "   ┗📄 pop.00073.wav\n",
            "----------------------------------------\n",
            "📁 FOLDER: /content/project/Data/genres_original/classical\n",
            "   ┗📄 classical.00095.wav\n",
            "   ┗📄 classical.00079.wav\n",
            "   ┗📄 classical.00074.wav\n",
            "   ┗📄 classical.00058.wav\n",
            "   ┗📄 classical.00075.wav\n",
            "----------------------------------------\n",
            "📁 FOLDER: /content/project/Data/genres_original/hiphop\n",
            "   ┗📄 hiphop.00032.wav\n",
            "   ┗📄 hiphop.00020.wav\n",
            "   ┗📄 hiphop.00087.wav\n",
            "   ┗📄 hiphop.00065.wav\n",
            "   ┗📄 hiphop.00056.wav\n",
            "----------------------------------------\n",
            "📁 FOLDER: /content/project/Data/genres_original/reggae\n",
            "   ┗📄 reggae.00068.wav\n",
            "   ┗📄 reggae.00033.wav\n",
            "   ┗📄 reggae.00069.wav\n",
            "   ┗📄 reggae.00075.wav\n",
            "   ┗📄 reggae.00058.wav\n",
            "----------------------------------------\n",
            "📁 FOLDER: /content/project/Data/genres_original/blues\n",
            "   ┗📄 blues.00041.wav\n",
            "   ┗📄 blues.00089.wav\n",
            "   ┗📄 blues.00097.wav\n",
            "   ┗📄 blues.00071.wav\n",
            "   ┗📄 blues.00024.wav\n",
            "----------------------------------------\n",
            "📁 FOLDER: /content/project/Data/genres_original/rock\n",
            "   ┗📄 rock.00039.wav\n",
            "   ┗📄 rock.00081.wav\n",
            "   ┗📄 rock.00092.wav\n",
            "   ┗📄 rock.00055.wav\n",
            "   ┗📄 rock.00029.wav\n",
            "----------------------------------------\n"
          ]
        }
      ]
    },
    {
      "cell_type": "code",
      "source": [
        "\n",
        "\n",
        "\n",
        "X = []\n",
        "y = []\n",
        "failed_files = []\n",
        "DATA_PATH = \"/content/project/Data/genres_original\"\n",
        "\n",
        "for genre in os.listdir(DATA_PATH):\n",
        "    genre_folder = os.path.join(DATA_PATH, genre)\n",
        "    if os.path.isdir(genre_folder):\n",
        "        for file in os.listdir(genre_folder):\n",
        "            if file.endswith(\".wav\"):\n",
        "                file_path = os.path.join(genre_folder, file)\n",
        "                try:\n",
        "                    signal, sr = librosa.load(file_path, duration=30)\n",
        "                    mfcc = librosa.feature.mfcc(y=signal, sr=sr, n_mfcc=20)\n",
        "                    mfcc_scaled = np.mean(mfcc.T, axis=0)\n",
        "                    X.append(mfcc_scaled)\n",
        "                    y.append(genre)\n",
        "                except Exception as e:\n",
        "                    print(f\"❌ Error: {file_path} — {e}\")\n",
        "                    failed_files.append(file_path)\n",
        "\n",
        "print(f\"\\n✅ Finished! Extracted features from {len(X)} files. Skipped {len(failed_files)} bad files.\")\n"
      ],
      "metadata": {
        "colab": {
          "base_uri": "https://localhost:8080/"
        },
        "id": "zy243S7QxWzr",
        "outputId": "ec553905-da42-42dd-de17-0cc5f972ba67"
      },
      "execution_count": null,
      "outputs": [
        {
          "output_type": "stream",
          "name": "stderr",
          "text": [
            "<ipython-input-25-0a6a1ce38200>:13: UserWarning: PySoundFile failed. Trying audioread instead.\n",
            "  signal, sr = librosa.load(file_path, duration=30)\n",
            "/usr/local/lib/python3.11/dist-packages/librosa/core/audio.py:184: FutureWarning: librosa.core.audio.__audioread_load\n",
            "\tDeprecated as of librosa version 0.10.0.\n",
            "\tIt will be removed in librosa version 1.0.\n",
            "  y, sr_native = __audioread_load(path, offset, duration, dtype)\n"
          ]
        },
        {
          "output_type": "stream",
          "name": "stdout",
          "text": [
            "❌ Error: /content/project/Data/genres_original/jazz/jazz.00054.wav — \n",
            "\n",
            "✅ Finished! Extracted features from 999 files. Skipped 1 bad files.\n"
          ]
        }
      ]
    },
    {
      "cell_type": "code",
      "source": [
        "from sklearn.model_selection import train_test_split\n",
        "from sklearn.preprocessing import LabelEncoder\n",
        "from tensorflow.keras.utils import to_categorical\n",
        "import numpy as np\n",
        "\n",
        "# Convert to NumPy arrays\n",
        "X = np.array(X)\n",
        "y = np.array(y)\n",
        "\n",
        "# Label encode genres (e.g., \"rock\" → 9)\n",
        "label_encoder = LabelEncoder()\n",
        "y_encoded = label_encoder.fit_transform(y)\n",
        "\n",
        "# Convert to one-hot encoded labels\n",
        "y_categorical = to_categorical(y_encoded)\n",
        "\n",
        "# Split into training and testing sets\n",
        "X_train, X_test, y_train, y_test = train_test_split(\n",
        "    X, y_categorical, test_size=0.2, random_state=42\n",
        ")\n",
        "\n",
        "print(\"✅ Shapes:\")\n",
        "print(\"X_train:\", X_train.shape)\n",
        "print(\"X_test:\", X_test.shape)\n",
        "print(\"y_train:\", y_train.shape)\n",
        "print(\"y_test:\", y_test.shape)\n"
      ],
      "metadata": {
        "colab": {
          "base_uri": "https://localhost:8080/"
        },
        "id": "iCBGW6Q_yIVy",
        "outputId": "115e4e86-1606-474a-db73-ef275e703735"
      },
      "execution_count": null,
      "outputs": [
        {
          "output_type": "stream",
          "name": "stdout",
          "text": [
            "✅ Shapes:\n",
            "X_train: (799, 20)\n",
            "X_test: (200, 20)\n",
            "y_train: (799, 10)\n",
            "y_test: (200, 10)\n"
          ]
        }
      ]
    },
    {
      "cell_type": "code",
      "source": [
        "from tensorflow.keras.models import Sequential\n",
        "from tensorflow.keras.layers import Dense, Dropout\n",
        "\n",
        "model = Sequential([\n",
        "    Dense(256, input_shape=(20,), activation='relu'),\n",
        "    Dropout(0.3),\n",
        "    Dense(128, activation='relu'),\n",
        "    Dropout(0.3),\n",
        "    Dense(64, activation='relu'),\n",
        "    Dense(10, activation='softmax')  # 10 genres\n",
        "])\n",
        "\n",
        "model.compile(\n",
        "    optimizer='adam',\n",
        "    loss='categorical_crossentropy',\n",
        "    metrics=['accuracy']\n",
        ")\n",
        "\n",
        "model.summary()\n"
      ],
      "metadata": {
        "id": "zoua1VR6zIjg",
        "colab": {
          "base_uri": "https://localhost:8080/",
          "height": 376
        },
        "outputId": "246ae978-4133-46ef-eb8a-cfa52acb4082"
      },
      "execution_count": null,
      "outputs": [
        {
          "output_type": "stream",
          "name": "stderr",
          "text": [
            "/usr/local/lib/python3.11/dist-packages/keras/src/layers/core/dense.py:87: UserWarning: Do not pass an `input_shape`/`input_dim` argument to a layer. When using Sequential models, prefer using an `Input(shape)` object as the first layer in the model instead.\n",
            "  super().__init__(activity_regularizer=activity_regularizer, **kwargs)\n"
          ]
        },
        {
          "output_type": "display_data",
          "data": {
            "text/plain": [
              "\u001b[1mModel: \"sequential_2\"\u001b[0m\n"
            ],
            "text/html": [
              "<pre style=\"white-space:pre;overflow-x:auto;line-height:normal;font-family:Menlo,'DejaVu Sans Mono',consolas,'Courier New',monospace\"><span style=\"font-weight: bold\">Model: \"sequential_2\"</span>\n",
              "</pre>\n"
            ]
          },
          "metadata": {}
        },
        {
          "output_type": "display_data",
          "data": {
            "text/plain": [
              "┏━━━━━━━━━━━━━━━━━━━━━━━━━━━━━━━━━┳━━━━━━━━━━━━━━━━━━━━━━━━┳━━━━━━━━━━━━━━━┓\n",
              "┃\u001b[1m \u001b[0m\u001b[1mLayer (type)                   \u001b[0m\u001b[1m \u001b[0m┃\u001b[1m \u001b[0m\u001b[1mOutput Shape          \u001b[0m\u001b[1m \u001b[0m┃\u001b[1m \u001b[0m\u001b[1m      Param #\u001b[0m\u001b[1m \u001b[0m┃\n",
              "┡━━━━━━━━━━━━━━━━━━━━━━━━━━━━━━━━━╇━━━━━━━━━━━━━━━━━━━━━━━━╇━━━━━━━━━━━━━━━┩\n",
              "│ dense_8 (\u001b[38;5;33mDense\u001b[0m)                 │ (\u001b[38;5;45mNone\u001b[0m, \u001b[38;5;34m256\u001b[0m)            │         \u001b[38;5;34m5,376\u001b[0m │\n",
              "├─────────────────────────────────┼────────────────────────┼───────────────┤\n",
              "│ dropout_4 (\u001b[38;5;33mDropout\u001b[0m)             │ (\u001b[38;5;45mNone\u001b[0m, \u001b[38;5;34m256\u001b[0m)            │             \u001b[38;5;34m0\u001b[0m │\n",
              "├─────────────────────────────────┼────────────────────────┼───────────────┤\n",
              "│ dense_9 (\u001b[38;5;33mDense\u001b[0m)                 │ (\u001b[38;5;45mNone\u001b[0m, \u001b[38;5;34m128\u001b[0m)            │        \u001b[38;5;34m32,896\u001b[0m │\n",
              "├─────────────────────────────────┼────────────────────────┼───────────────┤\n",
              "│ dropout_5 (\u001b[38;5;33mDropout\u001b[0m)             │ (\u001b[38;5;45mNone\u001b[0m, \u001b[38;5;34m128\u001b[0m)            │             \u001b[38;5;34m0\u001b[0m │\n",
              "├─────────────────────────────────┼────────────────────────┼───────────────┤\n",
              "│ dense_10 (\u001b[38;5;33mDense\u001b[0m)                │ (\u001b[38;5;45mNone\u001b[0m, \u001b[38;5;34m64\u001b[0m)             │         \u001b[38;5;34m8,256\u001b[0m │\n",
              "├─────────────────────────────────┼────────────────────────┼───────────────┤\n",
              "│ dense_11 (\u001b[38;5;33mDense\u001b[0m)                │ (\u001b[38;5;45mNone\u001b[0m, \u001b[38;5;34m10\u001b[0m)             │           \u001b[38;5;34m650\u001b[0m │\n",
              "└─────────────────────────────────┴────────────────────────┴───────────────┘\n"
            ],
            "text/html": [
              "<pre style=\"white-space:pre;overflow-x:auto;line-height:normal;font-family:Menlo,'DejaVu Sans Mono',consolas,'Courier New',monospace\">┏━━━━━━━━━━━━━━━━━━━━━━━━━━━━━━━━━┳━━━━━━━━━━━━━━━━━━━━━━━━┳━━━━━━━━━━━━━━━┓\n",
              "┃<span style=\"font-weight: bold\"> Layer (type)                    </span>┃<span style=\"font-weight: bold\"> Output Shape           </span>┃<span style=\"font-weight: bold\">       Param # </span>┃\n",
              "┡━━━━━━━━━━━━━━━━━━━━━━━━━━━━━━━━━╇━━━━━━━━━━━━━━━━━━━━━━━━╇━━━━━━━━━━━━━━━┩\n",
              "│ dense_8 (<span style=\"color: #0087ff; text-decoration-color: #0087ff\">Dense</span>)                 │ (<span style=\"color: #00d7ff; text-decoration-color: #00d7ff\">None</span>, <span style=\"color: #00af00; text-decoration-color: #00af00\">256</span>)            │         <span style=\"color: #00af00; text-decoration-color: #00af00\">5,376</span> │\n",
              "├─────────────────────────────────┼────────────────────────┼───────────────┤\n",
              "│ dropout_4 (<span style=\"color: #0087ff; text-decoration-color: #0087ff\">Dropout</span>)             │ (<span style=\"color: #00d7ff; text-decoration-color: #00d7ff\">None</span>, <span style=\"color: #00af00; text-decoration-color: #00af00\">256</span>)            │             <span style=\"color: #00af00; text-decoration-color: #00af00\">0</span> │\n",
              "├─────────────────────────────────┼────────────────────────┼───────────────┤\n",
              "│ dense_9 (<span style=\"color: #0087ff; text-decoration-color: #0087ff\">Dense</span>)                 │ (<span style=\"color: #00d7ff; text-decoration-color: #00d7ff\">None</span>, <span style=\"color: #00af00; text-decoration-color: #00af00\">128</span>)            │        <span style=\"color: #00af00; text-decoration-color: #00af00\">32,896</span> │\n",
              "├─────────────────────────────────┼────────────────────────┼───────────────┤\n",
              "│ dropout_5 (<span style=\"color: #0087ff; text-decoration-color: #0087ff\">Dropout</span>)             │ (<span style=\"color: #00d7ff; text-decoration-color: #00d7ff\">None</span>, <span style=\"color: #00af00; text-decoration-color: #00af00\">128</span>)            │             <span style=\"color: #00af00; text-decoration-color: #00af00\">0</span> │\n",
              "├─────────────────────────────────┼────────────────────────┼───────────────┤\n",
              "│ dense_10 (<span style=\"color: #0087ff; text-decoration-color: #0087ff\">Dense</span>)                │ (<span style=\"color: #00d7ff; text-decoration-color: #00d7ff\">None</span>, <span style=\"color: #00af00; text-decoration-color: #00af00\">64</span>)             │         <span style=\"color: #00af00; text-decoration-color: #00af00\">8,256</span> │\n",
              "├─────────────────────────────────┼────────────────────────┼───────────────┤\n",
              "│ dense_11 (<span style=\"color: #0087ff; text-decoration-color: #0087ff\">Dense</span>)                │ (<span style=\"color: #00d7ff; text-decoration-color: #00d7ff\">None</span>, <span style=\"color: #00af00; text-decoration-color: #00af00\">10</span>)             │           <span style=\"color: #00af00; text-decoration-color: #00af00\">650</span> │\n",
              "└─────────────────────────────────┴────────────────────────┴───────────────┘\n",
              "</pre>\n"
            ]
          },
          "metadata": {}
        },
        {
          "output_type": "display_data",
          "data": {
            "text/plain": [
              "\u001b[1m Total params: \u001b[0m\u001b[38;5;34m47,178\u001b[0m (184.29 KB)\n"
            ],
            "text/html": [
              "<pre style=\"white-space:pre;overflow-x:auto;line-height:normal;font-family:Menlo,'DejaVu Sans Mono',consolas,'Courier New',monospace\"><span style=\"font-weight: bold\"> Total params: </span><span style=\"color: #00af00; text-decoration-color: #00af00\">47,178</span> (184.29 KB)\n",
              "</pre>\n"
            ]
          },
          "metadata": {}
        },
        {
          "output_type": "display_data",
          "data": {
            "text/plain": [
              "\u001b[1m Trainable params: \u001b[0m\u001b[38;5;34m47,178\u001b[0m (184.29 KB)\n"
            ],
            "text/html": [
              "<pre style=\"white-space:pre;overflow-x:auto;line-height:normal;font-family:Menlo,'DejaVu Sans Mono',consolas,'Courier New',monospace\"><span style=\"font-weight: bold\"> Trainable params: </span><span style=\"color: #00af00; text-decoration-color: #00af00\">47,178</span> (184.29 KB)\n",
              "</pre>\n"
            ]
          },
          "metadata": {}
        },
        {
          "output_type": "display_data",
          "data": {
            "text/plain": [
              "\u001b[1m Non-trainable params: \u001b[0m\u001b[38;5;34m0\u001b[0m (0.00 B)\n"
            ],
            "text/html": [
              "<pre style=\"white-space:pre;overflow-x:auto;line-height:normal;font-family:Menlo,'DejaVu Sans Mono',consolas,'Courier New',monospace\"><span style=\"font-weight: bold\"> Non-trainable params: </span><span style=\"color: #00af00; text-decoration-color: #00af00\">0</span> (0.00 B)\n",
              "</pre>\n"
            ]
          },
          "metadata": {}
        }
      ]
    },
    {
      "cell_type": "code",
      "source": [
        "\n",
        "history = model.fit(\n",
        "    X_train, y_train,\n",
        "    validation_data=(X_test, y_test),\n",
        "    epochs=37,\n",
        "    batch_size=16,\n",
        "\n",
        ")\n"
      ],
      "metadata": {
        "id": "Dhdasxpjza2M",
        "colab": {
          "base_uri": "https://localhost:8080/"
        },
        "outputId": "c1106878-3a62-4f77-b086-0334f4ee5197"
      },
      "execution_count": null,
      "outputs": [
        {
          "output_type": "stream",
          "name": "stdout",
          "text": [
            "Epoch 1/37\n",
            "\u001b[1m50/50\u001b[0m \u001b[32m━━━━━━━━━━━━━━━━━━━━\u001b[0m\u001b[37m\u001b[0m \u001b[1m3s\u001b[0m 8ms/step - accuracy: 0.1361 - loss: 14.0670 - val_accuracy: 0.2600 - val_loss: 2.8641\n",
            "Epoch 2/37\n",
            "\u001b[1m50/50\u001b[0m \u001b[32m━━━━━━━━━━━━━━━━━━━━\u001b[0m\u001b[37m\u001b[0m \u001b[1m0s\u001b[0m 5ms/step - accuracy: 0.2271 - loss: 3.8206 - val_accuracy: 0.2700 - val_loss: 2.0807\n",
            "Epoch 3/37\n",
            "\u001b[1m50/50\u001b[0m \u001b[32m━━━━━━━━━━━━━━━━━━━━\u001b[0m\u001b[37m\u001b[0m \u001b[1m0s\u001b[0m 5ms/step - accuracy: 0.2037 - loss: 2.8594 - val_accuracy: 0.3100 - val_loss: 1.9399\n",
            "Epoch 4/37\n",
            "\u001b[1m50/50\u001b[0m \u001b[32m━━━━━━━━━━━━━━━━━━━━\u001b[0m\u001b[37m\u001b[0m \u001b[1m0s\u001b[0m 4ms/step - accuracy: 0.2778 - loss: 2.2174 - val_accuracy: 0.2900 - val_loss: 1.9336\n",
            "Epoch 5/37\n",
            "\u001b[1m50/50\u001b[0m \u001b[32m━━━━━━━━━━━━━━━━━━━━\u001b[0m\u001b[37m\u001b[0m \u001b[1m0s\u001b[0m 4ms/step - accuracy: 0.2675 - loss: 2.1683 - val_accuracy: 0.3250 - val_loss: 1.8629\n",
            "Epoch 6/37\n",
            "\u001b[1m50/50\u001b[0m \u001b[32m━━━━━━━━━━━━━━━━━━━━\u001b[0m\u001b[37m\u001b[0m \u001b[1m0s\u001b[0m 4ms/step - accuracy: 0.2678 - loss: 2.0590 - val_accuracy: 0.4000 - val_loss: 1.7613\n",
            "Epoch 7/37\n",
            "\u001b[1m50/50\u001b[0m \u001b[32m━━━━━━━━━━━━━━━━━━━━\u001b[0m\u001b[37m\u001b[0m \u001b[1m0s\u001b[0m 5ms/step - accuracy: 0.2970 - loss: 1.9615 - val_accuracy: 0.3300 - val_loss: 1.7403\n",
            "Epoch 8/37\n",
            "\u001b[1m50/50\u001b[0m \u001b[32m━━━━━━━━━━━━━━━━━━━━\u001b[0m\u001b[37m\u001b[0m \u001b[1m0s\u001b[0m 4ms/step - accuracy: 0.3062 - loss: 1.9442 - val_accuracy: 0.3800 - val_loss: 1.7121\n",
            "Epoch 9/37\n",
            "\u001b[1m50/50\u001b[0m \u001b[32m━━━━━━━━━━━━━━━━━━━━\u001b[0m\u001b[37m\u001b[0m \u001b[1m0s\u001b[0m 4ms/step - accuracy: 0.3576 - loss: 1.8748 - val_accuracy: 0.3950 - val_loss: 1.6740\n",
            "Epoch 10/37\n",
            "\u001b[1m50/50\u001b[0m \u001b[32m━━━━━━━━━━━━━━━━━━━━\u001b[0m\u001b[37m\u001b[0m \u001b[1m0s\u001b[0m 4ms/step - accuracy: 0.3725 - loss: 1.7654 - val_accuracy: 0.4500 - val_loss: 1.6238\n",
            "Epoch 11/37\n",
            "\u001b[1m50/50\u001b[0m \u001b[32m━━━━━━━━━━━━━━━━━━━━\u001b[0m\u001b[37m\u001b[0m \u001b[1m0s\u001b[0m 4ms/step - accuracy: 0.3143 - loss: 1.8564 - val_accuracy: 0.4250 - val_loss: 1.6100\n",
            "Epoch 12/37\n",
            "\u001b[1m50/50\u001b[0m \u001b[32m━━━━━━━━━━━━━━━━━━━━\u001b[0m\u001b[37m\u001b[0m \u001b[1m0s\u001b[0m 4ms/step - accuracy: 0.4314 - loss: 1.6800 - val_accuracy: 0.4700 - val_loss: 1.5569\n",
            "Epoch 13/37\n",
            "\u001b[1m50/50\u001b[0m \u001b[32m━━━━━━━━━━━━━━━━━━━━\u001b[0m\u001b[37m\u001b[0m \u001b[1m0s\u001b[0m 4ms/step - accuracy: 0.3778 - loss: 1.7557 - val_accuracy: 0.4500 - val_loss: 1.5470\n",
            "Epoch 14/37\n",
            "\u001b[1m50/50\u001b[0m \u001b[32m━━━━━━━━━━━━━━━━━━━━\u001b[0m\u001b[37m\u001b[0m \u001b[1m0s\u001b[0m 5ms/step - accuracy: 0.3699 - loss: 1.7036 - val_accuracy: 0.4500 - val_loss: 1.5174\n",
            "Epoch 15/37\n",
            "\u001b[1m50/50\u001b[0m \u001b[32m━━━━━━━━━━━━━━━━━━━━\u001b[0m\u001b[37m\u001b[0m \u001b[1m0s\u001b[0m 4ms/step - accuracy: 0.3561 - loss: 1.7245 - val_accuracy: 0.5050 - val_loss: 1.4980\n",
            "Epoch 16/37\n",
            "\u001b[1m50/50\u001b[0m \u001b[32m━━━━━━━━━━━━━━━━━━━━\u001b[0m\u001b[37m\u001b[0m \u001b[1m0s\u001b[0m 5ms/step - accuracy: 0.4046 - loss: 1.5932 - val_accuracy: 0.5150 - val_loss: 1.4576\n",
            "Epoch 17/37\n",
            "\u001b[1m50/50\u001b[0m \u001b[32m━━━━━━━━━━━━━━━━━━━━\u001b[0m\u001b[37m\u001b[0m \u001b[1m0s\u001b[0m 5ms/step - accuracy: 0.4300 - loss: 1.5812 - val_accuracy: 0.4950 - val_loss: 1.4444\n",
            "Epoch 18/37\n",
            "\u001b[1m50/50\u001b[0m \u001b[32m━━━━━━━━━━━━━━━━━━━━\u001b[0m\u001b[37m\u001b[0m \u001b[1m0s\u001b[0m 5ms/step - accuracy: 0.4046 - loss: 1.6431 - val_accuracy: 0.4850 - val_loss: 1.4827\n",
            "Epoch 19/37\n",
            "\u001b[1m50/50\u001b[0m \u001b[32m━━━━━━━━━━━━━━━━━━━━\u001b[0m\u001b[37m\u001b[0m \u001b[1m0s\u001b[0m 5ms/step - accuracy: 0.4141 - loss: 1.5654 - val_accuracy: 0.5050 - val_loss: 1.4269\n",
            "Epoch 20/37\n",
            "\u001b[1m50/50\u001b[0m \u001b[32m━━━━━━━━━━━━━━━━━━━━\u001b[0m\u001b[37m\u001b[0m \u001b[1m0s\u001b[0m 5ms/step - accuracy: 0.4413 - loss: 1.5953 - val_accuracy: 0.5250 - val_loss: 1.4208\n",
            "Epoch 21/37\n",
            "\u001b[1m50/50\u001b[0m \u001b[32m━━━━━━━━━━━━━━━━━━━━\u001b[0m\u001b[37m\u001b[0m \u001b[1m0s\u001b[0m 4ms/step - accuracy: 0.4760 - loss: 1.5020 - val_accuracy: 0.5550 - val_loss: 1.4723\n",
            "Epoch 22/37\n",
            "\u001b[1m50/50\u001b[0m \u001b[32m━━━━━━━━━━━━━━━━━━━━\u001b[0m\u001b[37m\u001b[0m \u001b[1m0s\u001b[0m 5ms/step - accuracy: 0.4668 - loss: 1.5230 - val_accuracy: 0.5300 - val_loss: 1.4220\n",
            "Epoch 23/37\n",
            "\u001b[1m50/50\u001b[0m \u001b[32m━━━━━━━━━━━━━━━━━━━━\u001b[0m\u001b[37m\u001b[0m \u001b[1m0s\u001b[0m 4ms/step - accuracy: 0.4362 - loss: 1.4927 - val_accuracy: 0.5450 - val_loss: 1.4019\n",
            "Epoch 24/37\n",
            "\u001b[1m50/50\u001b[0m \u001b[32m━━━━━━━━━━━━━━━━━━━━\u001b[0m\u001b[37m\u001b[0m \u001b[1m0s\u001b[0m 4ms/step - accuracy: 0.4207 - loss: 1.5235 - val_accuracy: 0.5300 - val_loss: 1.4003\n",
            "Epoch 25/37\n",
            "\u001b[1m50/50\u001b[0m \u001b[32m━━━━━━━━━━━━━━━━━━━━\u001b[0m\u001b[37m\u001b[0m \u001b[1m0s\u001b[0m 5ms/step - accuracy: 0.4469 - loss: 1.4092 - val_accuracy: 0.5400 - val_loss: 1.3672\n",
            "Epoch 26/37\n",
            "\u001b[1m50/50\u001b[0m \u001b[32m━━━━━━━━━━━━━━━━━━━━\u001b[0m\u001b[37m\u001b[0m \u001b[1m0s\u001b[0m 4ms/step - accuracy: 0.5054 - loss: 1.3730 - val_accuracy: 0.5200 - val_loss: 1.3678\n",
            "Epoch 27/37\n",
            "\u001b[1m50/50\u001b[0m \u001b[32m━━━━━━━━━━━━━━━━━━━━\u001b[0m\u001b[37m\u001b[0m \u001b[1m0s\u001b[0m 4ms/step - accuracy: 0.5194 - loss: 1.3616 - val_accuracy: 0.4950 - val_loss: 1.3926\n",
            "Epoch 28/37\n",
            "\u001b[1m50/50\u001b[0m \u001b[32m━━━━━━━━━━━━━━━━━━━━\u001b[0m\u001b[37m\u001b[0m \u001b[1m0s\u001b[0m 5ms/step - accuracy: 0.4767 - loss: 1.3863 - val_accuracy: 0.5400 - val_loss: 1.3942\n",
            "Epoch 29/37\n",
            "\u001b[1m50/50\u001b[0m \u001b[32m━━━━━━━━━━━━━━━━━━━━\u001b[0m\u001b[37m\u001b[0m \u001b[1m0s\u001b[0m 4ms/step - accuracy: 0.4641 - loss: 1.3923 - val_accuracy: 0.5550 - val_loss: 1.3836\n",
            "Epoch 30/37\n",
            "\u001b[1m50/50\u001b[0m \u001b[32m━━━━━━━━━━━━━━━━━━━━\u001b[0m\u001b[37m\u001b[0m \u001b[1m0s\u001b[0m 4ms/step - accuracy: 0.4799 - loss: 1.4252 - val_accuracy: 0.5400 - val_loss: 1.3559\n",
            "Epoch 31/37\n",
            "\u001b[1m50/50\u001b[0m \u001b[32m━━━━━━━━━━━━━━━━━━━━\u001b[0m\u001b[37m\u001b[0m \u001b[1m0s\u001b[0m 4ms/step - accuracy: 0.5114 - loss: 1.3312 - val_accuracy: 0.5200 - val_loss: 1.3871\n",
            "Epoch 32/37\n",
            "\u001b[1m50/50\u001b[0m \u001b[32m━━━━━━━━━━━━━━━━━━━━\u001b[0m\u001b[37m\u001b[0m \u001b[1m0s\u001b[0m 4ms/step - accuracy: 0.5086 - loss: 1.3840 - val_accuracy: 0.5500 - val_loss: 1.3592\n",
            "Epoch 33/37\n",
            "\u001b[1m50/50\u001b[0m \u001b[32m━━━━━━━━━━━━━━━━━━━━\u001b[0m\u001b[37m\u001b[0m \u001b[1m0s\u001b[0m 5ms/step - accuracy: 0.5121 - loss: 1.3333 - val_accuracy: 0.5550 - val_loss: 1.3574\n",
            "Epoch 34/37\n",
            "\u001b[1m50/50\u001b[0m \u001b[32m━━━━━━━━━━━━━━━━━━━━\u001b[0m\u001b[37m\u001b[0m \u001b[1m0s\u001b[0m 7ms/step - accuracy: 0.5240 - loss: 1.2899 - val_accuracy: 0.5550 - val_loss: 1.3219\n",
            "Epoch 35/37\n",
            "\u001b[1m50/50\u001b[0m \u001b[32m━━━━━━━━━━━━━━━━━━━━\u001b[0m\u001b[37m\u001b[0m \u001b[1m1s\u001b[0m 7ms/step - accuracy: 0.5423 - loss: 1.2182 - val_accuracy: 0.5550 - val_loss: 1.3179\n",
            "Epoch 36/37\n",
            "\u001b[1m50/50\u001b[0m \u001b[32m━━━━━━━━━━━━━━━━━━━━\u001b[0m\u001b[37m\u001b[0m \u001b[1m1s\u001b[0m 7ms/step - accuracy: 0.5974 - loss: 1.1622 - val_accuracy: 0.5450 - val_loss: 1.3418\n",
            "Epoch 37/37\n",
            "\u001b[1m50/50\u001b[0m \u001b[32m━━━━━━━━━━━━━━━━━━━━\u001b[0m\u001b[37m\u001b[0m \u001b[1m0s\u001b[0m 7ms/step - accuracy: 0.5651 - loss: 1.2375 - val_accuracy: 0.5550 - val_loss: 1.3140\n"
          ]
        }
      ]
    },
    {
      "cell_type": "code",
      "source": [
        "import matplotlib.pyplot as plt\n",
        "\n",
        "# Accuracy plot\n",
        "plt.figure(figsize=(12, 4))\n",
        "plt.subplot(1, 2, 1)\n",
        "plt.plot(history.history['accuracy'], label='Train Acc')\n",
        "plt.plot(history.history['val_accuracy'], label='Val Acc')\n",
        "plt.title('Accuracy Over Epochs')\n",
        "plt.xlabel('Epoch')\n",
        "plt.ylabel('Accuracy')\n",
        "plt.legend()\n",
        "\n",
        "# Loss plot\n",
        "plt.subplot(1, 2, 2)\n",
        "plt.plot(history.history['loss'], label='Train Loss')\n",
        "plt.plot(history.history['val_loss'], label='Val Loss')\n",
        "plt.title('Loss Over Epochs')\n",
        "plt.xlabel('Epoch')\n",
        "plt.ylabel('Loss')\n",
        "plt.legend()\n",
        "\n",
        "plt.tight_layout()\n",
        "plt.show()\n"
      ],
      "metadata": {
        "colab": {
          "base_uri": "https://localhost:8080/",
          "height": 396
        },
        "id": "m8-yLIr8zkOE",
        "outputId": "1c521e44-6aff-4732-ee45-d5e955383987"
      },
      "execution_count": null,
      "outputs": [
        {
          "output_type": "display_data",
          "data": {
            "text/plain": [
              "<Figure size 1200x400 with 2 Axes>"
            ],
            "image/png": "[encoded data removed]"
          },
          "metadata": {}
        }
      ]
    },
    {
      "cell_type": "code",
      "source": [
        "\n",
        "model.evaluate(X_test,y_test)"
      ],
      "metadata": {
        "colab": {
          "base_uri": "https://localhost:8080/"
        },
        "id": "EwJi5cOvaYLb",
        "outputId": "f31cc47f-60a1-4be7-cc47-a4123154acb3"
      },
      "execution_count": null,
      "outputs": [
        {
          "output_type": "stream",
          "name": "stdout",
          "text": [
            "\u001b[1m7/7\u001b[0m \u001b[32m━━━━━━━━━━━━━━━━━━━━\u001b[0m\u001b[37m\u001b[0m \u001b[1m0s\u001b[0m 11ms/step - accuracy: 0.5950 - loss: 1.3031\n"
          ]
        },
        {
          "output_type": "execute_result",
          "data": {
            "text/plain": [
              "[1.3139530420303345, 0.5550000071525574]"
            ]
          },
          "metadata": {},
          "execution_count": 30
        }
      ]
    },
    {
      "cell_type": "markdown",
      "source": [],
      "metadata": {
        "id": "aj2eSptE1VIZ"
      }
    },
    {
      "cell_type": "code",
      "source": [
        "\n",
        "model.save(\"genre_classification_model.h5\")\n",
        "print(\"✅ Model saved as genre_classification_model.h5\")\n"
      ],
      "metadata": {
        "colab": {
          "base_uri": "https://localhost:8080/"
        },
        "id": "leI2o19hzuIl",
        "outputId": "1a50a7ba-8d27-45da-b47d-bd09fef56bc3"
      },
      "execution_count": null,
      "outputs": [
        {
          "output_type": "stream",
          "name": "stderr",
          "text": [
            "WARNING:absl:You are saving your model as an HDF5 file via `model.save()` or `keras.saving.save_model(model)`. This file format is considered legacy. We recommend using instead the native Keras format, e.g. `model.save('my_model.keras')` or `keras.saving.save_model(model, 'my_model.keras')`. \n"
          ]
        },
        {
          "output_type": "stream",
          "name": "stdout",
          "text": [
            "✅ Model saved as genre_classification_model.h5\n"
          ]
        }
      ]
    },
    {
      "cell_type": "code",
      "source": [
        "\n",
        "\n",
        "import numpy as np\n",
        "\n",
        "# Pick a random sample from test set\n",
        "sample_idx = np.random.randint(0, len(X_test))\n",
        "sample_input = X_test[sample_idx].reshape(1, -1)\n",
        "\n",
        "# Predict\n",
        "predicted_probs = model.predict(sample_input)\n",
        "predicted_class = np.argmax(predicted_probs)\n",
        "\n",
        "# Map back to genre name\n",
        "predicted_genre = label_encoder.inverse_transform([predicted_class])[0]\n",
        "true_genre = label_encoder.inverse_transform([np.argmax(y_test[sample_idx])])[0]\n",
        "\n",
        "print(f\"🎶 Predicted Genre: {predicted_genre}\")\n",
        "print(f\"✅ Actual Genre: {true_genre}\")\n"
      ],
      "metadata": {
        "colab": {
          "base_uri": "https://localhost:8080/"
        },
        "id": "JN4kAjLNz4o8",
        "outputId": "8cadb9a6-89dd-443f-d3f0-594b5c573439"
      },
      "execution_count": null,
      "outputs": [
        {
          "output_type": "stream",
          "name": "stdout",
          "text": [
            "\u001b[1m1/1\u001b[0m \u001b[32m━━━━━━━━━━━━━━━━━━━━\u001b[0m\u001b[37m\u001b[0m \u001b[1m0s\u001b[0m 83ms/step\n",
            "🎶 Predicted Genre: country\n",
            "✅ Actual Genre: classical\n"
          ]
        }
      ]
    },
    {
      "cell_type": "code",
      "source": [
        "from sklearn.metrics import confusion_matrix, ConfusionMatrixDisplay\n",
        "import seaborn as sns\n",
        "import matplotlib.pyplot as plt\n",
        "\n",
        "# Convert predictions and labels back from one-hot\n",
        "y_pred = model.predict(X_test)\n",
        "y_pred_labels = np.argmax(y_pred, axis=1)\n",
        "y_true_labels = np.argmax(y_test, axis=1)\n",
        "\n",
        "# Compute confusion matrix\n",
        "cm = confusion_matrix(y_true_labels, y_pred_labels)\n",
        "labels = label_encoder.classes_\n",
        "\n",
        "# Plot\n",
        "plt.figure(figsize=(10, 8))\n",
        "sns.heatmap(cm, annot=True, fmt='d', xticklabels=labels, yticklabels=labels, cmap='Blues')\n",
        "plt.xlabel(\"Predicted Genre\")\n",
        "plt.ylabel(\"True Genre\")\n",
        "plt.title(\"Confusion Matrix\")\n",
        "plt.show()\n"
      ],
      "metadata": {
        "colab": {
          "base_uri": "https://localhost:8080/",
          "height": 735
        },
        "id": "zOXOCZeo0Ish",
        "outputId": "bb9f6516-6709-406e-a720-db52f78fcf9f"
      },
      "execution_count": null,
      "outputs": [
        {
          "output_type": "stream",
          "name": "stdout",
          "text": [
            "\u001b[1m7/7\u001b[0m \u001b[32m━━━━━━━━━━━━━━━━━━━━\u001b[0m\u001b[37m\u001b[0m \u001b[1m0s\u001b[0m 5ms/step \n"
          ]
        },
        {
          "output_type": "display_data",
          "data": {
            "text/plain": [
              "<Figure size 1000x800 with 2 Axes>"
            ],
            "image/png": "[encoded data removed]"
          },
          "metadata": {}
        }
      ]
    },
    {
      "cell_type": "code",
      "source": [],
      "metadata": {
        "id": "mmXN0bQjUAls"
      },
      "execution_count": null,
      "outputs": []
    }
  ],
  "metadata": {
    "colab": {
      "provenance": []
    },
    "kernelspec": {
      "display_name": "Python 3",
      "name": "python3"
    },
    "language_info": {
      "name": "python"
    }
  },
  "nbformat": 4,
  "nbformat_minor": 0
}